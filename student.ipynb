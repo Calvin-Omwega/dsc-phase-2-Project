{
 "cells": [
  {
   "cell_type": "markdown",
   "metadata": {},
   "source": [
    "## Final Project Submission\n",
    "\n",
    "Please fill out:\n",
    "* Student names: CALVIN OMWEGA,COLLINS BIWOTT,INGAVI KILAVUKA,MERCY KIRAGU\n",
    "                 \n",
    "* Student pace: Full time-Hybrid\n",
    "* Scheduled project review date/time: \n",
    "* Instructor name: Maryann Mwikali\n",
    "* Blog post URL: \n"
   ]
  },
  {
   "cell_type": "markdown",
   "metadata": {},
   "source": [
    "## BUSINESS UNDERSTANDING"
   ]
  },
  {
   "cell_type": "markdown",
   "metadata": {},
   "source": [
    "### BUSINESS OVERVIEW"
   ]
  },
  {
   "cell_type": "markdown",
   "metadata": {},
   "source": [
    "A real estate agency aims to provide detailed pricing models to their clients showing how different features impact home sale prices.By understanding these impacts,the agency can advise sellers on how to enhance their property to maximize sale price and assist buyers in evaluating potential homes"
   ]
  },
  {
   "cell_type": "markdown",
   "metadata": {},
   "source": [
    "#### CHALLENGES:\n",
    "\n",
    "1.The King County real estate market is subject to fluctuations influenced by economic conditions, interest rates, and other external factors, posing challenges in predicting property values accurately.\n",
    "\n",
    "2.The presence of numerous real estate agencies and agents vying for clients' attention intensifies competition, requiring innovative strategies to stand out and attract business.\n",
    "\n",
    "3.Ensuring the accuracy and completeness of data sources, as well as accessing relevant datasets for analysis, presents challenges in developing robust pricing models and predictive analytics.\n",
    "\n",
    "4.Ongoing regulatory changes, such as zoning regulations, tax policies, and housing laws, can impact market dynamics and require adaptation to ensure compliance and mitigate risks.\n",
    "\n",
    "#### PROPOSED SOLUTION:\n",
    "\n",
    "1.Implement sophisticated data analytics techniques, including machine learning algorithms, to analyze historical sales data, identify trends, and predict future property values with greater accuracy.\n",
    "\n",
    "2.Develop customized pricing models that consider a wide range of factors, including property features, neighborhood characteristics, market demand, and buyer preferences, to provide tailored pricing recommendations for each property.\n",
    "\n",
    "3.Establish a framework for continuous monitoring of market trends and model performance, allowing for timely adjustments to pricing strategies and recommendations based on changing market conditions.\n",
    "\n",
    "4.Foster collaborations with data providers, industry experts, and technology partners to access additional data sources, enhance analytical capabilities, and stay abreast of best practices in real estate valuation and predictive modeling.\n",
    "\n",
    "In conclusion, by leveraging advanced analytics and innovative strategies, the real estate agency can overcome challenges in the dynamic King County market and provide clients with valuable insights and recommendations to optimize their real estate transactions. Through continuous adaptation, collaboration, and a client-centric approach, the agency can achieve sustainable growth, enhance competitiveness, and deliver exceptional value to clients in the ever-evolving real estate landscape."
   ]
  },
  {
   "cell_type": "markdown",
   "metadata": {},
   "source": [
    "### PROBLEM STATEMENT"
   ]
  },
  {
   "cell_type": "markdown",
   "metadata": {},
   "source": [
    "\n",
    "\n",
    "The real estate agency seeks to develop sophisticated pricing models that analyze the King County housing market data to determine how different features influence home sale prices. By understanding these impacts, the agency aims to:\n",
    "1. Assist sellers in optimizing their property to maximize sale price: Sellers will benefit from tailored recommendations on which features to enhance or highlight to increase the value of their homes. By leveraging insights from the pricing models, sellers can make informed decisions about renovations, upgrades, or staging strategies to attract potential buyers and achieve optimal sale prices.\n",
    "2. Empower buyers to make informed purchasing decisions: Buyers will gain valuable insights into how various property features correlate with sale prices. Armed with this knowledge, buyers can prioritize their preferences and make informed decisions when evaluating potential homes. Additionally, the agency can provide guidance on negotiating strategies based on the perceived value of different features.\n",
    "3. Enhance the agency's competitive advantage: By offering advanced pricing models that provide granular insights into the factors influencing home sale prices, the agency can differentiate itself in the market. This will attract both sellers seeking to maximize their returns and buyers seeking expert guidance in their property search process.\n",
    "\n",
    "Overall, the development of detailed pricing models will enable the real estate agency to provide superior value to its clients, facilitate more informed decision-making processes, and maintain a competitive edge in the dynamic King County housing market."
   ]
  },
  {
   "cell_type": "markdown",
   "metadata": {},
   "source": [
    "## DATA UNDERSTANDING"
   ]
  },
  {
   "cell_type": "markdown",
   "metadata": {},
   "source": [
    "The King County House sale dataset contains information regarding houses sold during the one year period ranging from May 2014 to May 2015.\n",
    "\n",
    "In order to understand what each column in our data frame represents, a data dictionary is displayed below:\n",
    "\n",
    "##### TARGET/DEPENDENT VARIABLE:\n",
    "\n",
    "price — price of each home sold\n",
    "\n",
    "##### PREDICTORS/INDEPENDENT VARIABLES:\n",
    "\n",
    "id — unique identifier for a house\n",
    "\n",
    "date — date of the home sale\n",
    "\n",
    "bedrooms — number of bedrooms\n",
    "\n",
    "bathrooms — number of bathrooms\n",
    "\n",
    "sqft_living — square footage of the house’s interior living space\n",
    "\n",
    "sqft_lot — square footage of the land space\n",
    "\n",
    "floors — number of floors\n",
    "\n",
    "waterfront — does the house have a view to the waterfront?\n",
    "\n",
    "view — an index from 0 to 4 of how good the view of the property was\n",
    "\n",
    "condition — an index from 1 to 5 on the condition of the house\n",
    "grade — an index from 1 to 13, where 1–3 falls short of building construction and design, 7 has an average level of construction and design, and 11–13 have a high quality level of construction and design\n",
    "\n",
    "sqft_above — square feet above ground\n",
    "\n",
    "sqft_basement — square feet below ground\n",
    "\n",
    "yr_built— the year the house was initially built\n",
    "\n",
    "yr_renovated — the year of the house’s last renovation (0 if never renovated)\n",
    "\n",
    "zipcode — zip\n",
    "\n",
    "lat — latitude coordinate\n",
    "\n",
    "long — longitude coordinate\n",
    "\n",
    "sqft_living15 — average size of interior housing living space for the closest 15 houses, in square feet\n",
    "\n",
    "sqft_lot15 — average size of land lot for the closest 15 houses, in square feet\n",
    "\n"
   ]
  },
  {
   "cell_type": "markdown",
   "metadata": {},
   "source": [
    "### DATA PREPROCESSING"
   ]
  },
  {
   "cell_type": "code",
   "execution_count": 60,
   "metadata": {},
   "outputs": [],
   "source": [
    "import pandas as pd \n",
    "import numpy as np\n",
    "import matplotlib.pyplot as plt\n",
    "import seaborn as sns"
   ]
  },
  {
   "cell_type": "code",
   "execution_count": 61,
   "metadata": {},
   "outputs": [],
   "source": [
    "\n",
    "\n",
    "dataset = pd.read_csv(\"data/kc_house_data.csv\")\n",
    "\n"
   ]
  },
  {
   "cell_type": "code",
   "execution_count": 62,
   "metadata": {},
   "outputs": [
    {
     "data": {
      "text/html": [
       "<div>\n",
       "<style scoped>\n",
       "    .dataframe tbody tr th:only-of-type {\n",
       "        vertical-align: middle;\n",
       "    }\n",
       "\n",
       "    .dataframe tbody tr th {\n",
       "        vertical-align: top;\n",
       "    }\n",
       "\n",
       "    .dataframe thead th {\n",
       "        text-align: right;\n",
       "    }\n",
       "</style>\n",
       "<table border=\"1\" class=\"dataframe\">\n",
       "  <thead>\n",
       "    <tr style=\"text-align: right;\">\n",
       "      <th></th>\n",
       "      <th>id</th>\n",
       "      <th>date</th>\n",
       "      <th>price</th>\n",
       "      <th>bedrooms</th>\n",
       "      <th>bathrooms</th>\n",
       "      <th>sqft_living</th>\n",
       "      <th>sqft_lot</th>\n",
       "      <th>floors</th>\n",
       "      <th>waterfront</th>\n",
       "      <th>view</th>\n",
       "      <th>...</th>\n",
       "      <th>grade</th>\n",
       "      <th>sqft_above</th>\n",
       "      <th>sqft_basement</th>\n",
       "      <th>yr_built</th>\n",
       "      <th>yr_renovated</th>\n",
       "      <th>zipcode</th>\n",
       "      <th>lat</th>\n",
       "      <th>long</th>\n",
       "      <th>sqft_living15</th>\n",
       "      <th>sqft_lot15</th>\n",
       "    </tr>\n",
       "  </thead>\n",
       "  <tbody>\n",
       "    <tr>\n",
       "      <th>0</th>\n",
       "      <td>7129300520</td>\n",
       "      <td>10/13/2014</td>\n",
       "      <td>221,900</td>\n",
       "      <td>3</td>\n",
       "      <td>1</td>\n",
       "      <td>1180</td>\n",
       "      <td>5650</td>\n",
       "      <td>1</td>\n",
       "      <td>nan</td>\n",
       "      <td>0</td>\n",
       "      <td>...</td>\n",
       "      <td>7</td>\n",
       "      <td>1180</td>\n",
       "      <td>0.0</td>\n",
       "      <td>1955</td>\n",
       "      <td>0</td>\n",
       "      <td>98178</td>\n",
       "      <td>48</td>\n",
       "      <td>-122</td>\n",
       "      <td>1340</td>\n",
       "      <td>5650</td>\n",
       "    </tr>\n",
       "    <tr>\n",
       "      <th>1</th>\n",
       "      <td>6414100192</td>\n",
       "      <td>12/9/2014</td>\n",
       "      <td>538,000</td>\n",
       "      <td>3</td>\n",
       "      <td>2</td>\n",
       "      <td>2570</td>\n",
       "      <td>7242</td>\n",
       "      <td>2</td>\n",
       "      <td>0</td>\n",
       "      <td>0</td>\n",
       "      <td>...</td>\n",
       "      <td>7</td>\n",
       "      <td>2170</td>\n",
       "      <td>400.0</td>\n",
       "      <td>1951</td>\n",
       "      <td>1,991</td>\n",
       "      <td>98125</td>\n",
       "      <td>48</td>\n",
       "      <td>-122</td>\n",
       "      <td>1690</td>\n",
       "      <td>7639</td>\n",
       "    </tr>\n",
       "    <tr>\n",
       "      <th>2</th>\n",
       "      <td>5631500400</td>\n",
       "      <td>2/25/2015</td>\n",
       "      <td>180,000</td>\n",
       "      <td>2</td>\n",
       "      <td>1</td>\n",
       "      <td>770</td>\n",
       "      <td>10000</td>\n",
       "      <td>1</td>\n",
       "      <td>0</td>\n",
       "      <td>0</td>\n",
       "      <td>...</td>\n",
       "      <td>6</td>\n",
       "      <td>770</td>\n",
       "      <td>0.0</td>\n",
       "      <td>1933</td>\n",
       "      <td>nan</td>\n",
       "      <td>98028</td>\n",
       "      <td>48</td>\n",
       "      <td>-122</td>\n",
       "      <td>2720</td>\n",
       "      <td>8062</td>\n",
       "    </tr>\n",
       "    <tr>\n",
       "      <th>3</th>\n",
       "      <td>2487200875</td>\n",
       "      <td>12/9/2014</td>\n",
       "      <td>604,000</td>\n",
       "      <td>4</td>\n",
       "      <td>3</td>\n",
       "      <td>1960</td>\n",
       "      <td>5000</td>\n",
       "      <td>1</td>\n",
       "      <td>0</td>\n",
       "      <td>0</td>\n",
       "      <td>...</td>\n",
       "      <td>7</td>\n",
       "      <td>1050</td>\n",
       "      <td>910.0</td>\n",
       "      <td>1965</td>\n",
       "      <td>0</td>\n",
       "      <td>98136</td>\n",
       "      <td>48</td>\n",
       "      <td>-122</td>\n",
       "      <td>1360</td>\n",
       "      <td>5000</td>\n",
       "    </tr>\n",
       "    <tr>\n",
       "      <th>4</th>\n",
       "      <td>1954400510</td>\n",
       "      <td>2/18/2015</td>\n",
       "      <td>510,000</td>\n",
       "      <td>3</td>\n",
       "      <td>2</td>\n",
       "      <td>1680</td>\n",
       "      <td>8080</td>\n",
       "      <td>1</td>\n",
       "      <td>0</td>\n",
       "      <td>0</td>\n",
       "      <td>...</td>\n",
       "      <td>8</td>\n",
       "      <td>1680</td>\n",
       "      <td>0.0</td>\n",
       "      <td>1987</td>\n",
       "      <td>0</td>\n",
       "      <td>98074</td>\n",
       "      <td>48</td>\n",
       "      <td>-122</td>\n",
       "      <td>1800</td>\n",
       "      <td>7503</td>\n",
       "    </tr>\n",
       "  </tbody>\n",
       "</table>\n",
       "<p>5 rows × 21 columns</p>\n",
       "</div>"
      ],
      "text/plain": [
       "           id        date   price  bedrooms  bathrooms  sqft_living  sqft_lot  \\\n",
       "0  7129300520  10/13/2014 221,900         3          1         1180      5650   \n",
       "1  6414100192   12/9/2014 538,000         3          2         2570      7242   \n",
       "2  5631500400   2/25/2015 180,000         2          1          770     10000   \n",
       "3  2487200875   12/9/2014 604,000         4          3         1960      5000   \n",
       "4  1954400510   2/18/2015 510,000         3          2         1680      8080   \n",
       "\n",
       "   floors  waterfront  view  ...  grade  sqft_above  sqft_basement yr_built  \\\n",
       "0       1         nan     0  ...      7        1180            0.0     1955   \n",
       "1       2           0     0  ...      7        2170          400.0     1951   \n",
       "2       1           0     0  ...      6         770            0.0     1933   \n",
       "3       1           0     0  ...      7        1050          910.0     1965   \n",
       "4       1           0     0  ...      8        1680            0.0     1987   \n",
       "\n",
       "   yr_renovated  zipcode  lat  long  sqft_living15  sqft_lot15  \n",
       "0             0    98178   48  -122           1340        5650  \n",
       "1         1,991    98125   48  -122           1690        7639  \n",
       "2           nan    98028   48  -122           2720        8062  \n",
       "3             0    98136   48  -122           1360        5000  \n",
       "4             0    98074   48  -122           1800        7503  \n",
       "\n",
       "[5 rows x 21 columns]"
      ]
     },
     "execution_count": 62,
     "metadata": {},
     "output_type": "execute_result"
    }
   ],
   "source": [
    "dataset.head()"
   ]
  },
  {
   "cell_type": "code",
   "execution_count": 64,
   "metadata": {},
   "outputs": [
    {
     "data": {
      "text/html": [
       "<div>\n",
       "<style scoped>\n",
       "    .dataframe tbody tr th:only-of-type {\n",
       "        vertical-align: middle;\n",
       "    }\n",
       "\n",
       "    .dataframe tbody tr th {\n",
       "        vertical-align: top;\n",
       "    }\n",
       "\n",
       "    .dataframe thead th {\n",
       "        text-align: right;\n",
       "    }\n",
       "</style>\n",
       "<table border=\"1\" class=\"dataframe\">\n",
       "  <thead>\n",
       "    <tr style=\"text-align: right;\">\n",
       "      <th></th>\n",
       "      <th>id</th>\n",
       "      <th>price</th>\n",
       "      <th>bedrooms</th>\n",
       "      <th>bathrooms</th>\n",
       "      <th>sqft_living</th>\n",
       "      <th>sqft_lot</th>\n",
       "      <th>floors</th>\n",
       "      <th>waterfront</th>\n",
       "      <th>view</th>\n",
       "      <th>condition</th>\n",
       "      <th>grade</th>\n",
       "      <th>sqft_above</th>\n",
       "      <th>yr_built</th>\n",
       "      <th>yr_renovated</th>\n",
       "      <th>zipcode</th>\n",
       "      <th>lat</th>\n",
       "      <th>long</th>\n",
       "      <th>sqft_living15</th>\n",
       "      <th>sqft_lot15</th>\n",
       "    </tr>\n",
       "  </thead>\n",
       "  <tbody>\n",
       "    <tr>\n",
       "      <th>count</th>\n",
       "      <td>21,597</td>\n",
       "      <td>21,597</td>\n",
       "      <td>21,597</td>\n",
       "      <td>21,597</td>\n",
       "      <td>21,597</td>\n",
       "      <td>21,597</td>\n",
       "      <td>21,597</td>\n",
       "      <td>19,221</td>\n",
       "      <td>21,534</td>\n",
       "      <td>21,597</td>\n",
       "      <td>21,597</td>\n",
       "      <td>21,597</td>\n",
       "      <td>21,597</td>\n",
       "      <td>17,755</td>\n",
       "      <td>21,597</td>\n",
       "      <td>21,597</td>\n",
       "      <td>21,597</td>\n",
       "      <td>21,597</td>\n",
       "      <td>21,597</td>\n",
       "    </tr>\n",
       "    <tr>\n",
       "      <th>mean</th>\n",
       "      <td>4,580,474,288</td>\n",
       "      <td>540,297</td>\n",
       "      <td>3</td>\n",
       "      <td>2</td>\n",
       "      <td>2,080</td>\n",
       "      <td>15,099</td>\n",
       "      <td>1</td>\n",
       "      <td>0</td>\n",
       "      <td>0</td>\n",
       "      <td>3</td>\n",
       "      <td>8</td>\n",
       "      <td>1,789</td>\n",
       "      <td>1,971</td>\n",
       "      <td>84</td>\n",
       "      <td>98,078</td>\n",
       "      <td>48</td>\n",
       "      <td>-122</td>\n",
       "      <td>1,987</td>\n",
       "      <td>12,758</td>\n",
       "    </tr>\n",
       "    <tr>\n",
       "      <th>std</th>\n",
       "      <td>2,876,735,716</td>\n",
       "      <td>367,368</td>\n",
       "      <td>1</td>\n",
       "      <td>1</td>\n",
       "      <td>918</td>\n",
       "      <td>41,413</td>\n",
       "      <td>1</td>\n",
       "      <td>0</td>\n",
       "      <td>1</td>\n",
       "      <td>1</td>\n",
       "      <td>1</td>\n",
       "      <td>828</td>\n",
       "      <td>29</td>\n",
       "      <td>400</td>\n",
       "      <td>54</td>\n",
       "      <td>0</td>\n",
       "      <td>0</td>\n",
       "      <td>685</td>\n",
       "      <td>27,274</td>\n",
       "    </tr>\n",
       "    <tr>\n",
       "      <th>min</th>\n",
       "      <td>1,000,102</td>\n",
       "      <td>78,000</td>\n",
       "      <td>1</td>\n",
       "      <td>0</td>\n",
       "      <td>370</td>\n",
       "      <td>520</td>\n",
       "      <td>1</td>\n",
       "      <td>0</td>\n",
       "      <td>0</td>\n",
       "      <td>1</td>\n",
       "      <td>3</td>\n",
       "      <td>370</td>\n",
       "      <td>1,900</td>\n",
       "      <td>0</td>\n",
       "      <td>98,001</td>\n",
       "      <td>47</td>\n",
       "      <td>-123</td>\n",
       "      <td>399</td>\n",
       "      <td>651</td>\n",
       "    </tr>\n",
       "    <tr>\n",
       "      <th>25%</th>\n",
       "      <td>2,123,049,175</td>\n",
       "      <td>322,000</td>\n",
       "      <td>3</td>\n",
       "      <td>2</td>\n",
       "      <td>1,430</td>\n",
       "      <td>5,040</td>\n",
       "      <td>1</td>\n",
       "      <td>0</td>\n",
       "      <td>0</td>\n",
       "      <td>3</td>\n",
       "      <td>7</td>\n",
       "      <td>1,190</td>\n",
       "      <td>1,951</td>\n",
       "      <td>0</td>\n",
       "      <td>98,033</td>\n",
       "      <td>47</td>\n",
       "      <td>-122</td>\n",
       "      <td>1,490</td>\n",
       "      <td>5,100</td>\n",
       "    </tr>\n",
       "    <tr>\n",
       "      <th>50%</th>\n",
       "      <td>3,904,930,410</td>\n",
       "      <td>450,000</td>\n",
       "      <td>3</td>\n",
       "      <td>2</td>\n",
       "      <td>1,910</td>\n",
       "      <td>7,618</td>\n",
       "      <td>2</td>\n",
       "      <td>0</td>\n",
       "      <td>0</td>\n",
       "      <td>3</td>\n",
       "      <td>7</td>\n",
       "      <td>1,560</td>\n",
       "      <td>1,975</td>\n",
       "      <td>0</td>\n",
       "      <td>98,065</td>\n",
       "      <td>48</td>\n",
       "      <td>-122</td>\n",
       "      <td>1,840</td>\n",
       "      <td>7,620</td>\n",
       "    </tr>\n",
       "    <tr>\n",
       "      <th>75%</th>\n",
       "      <td>7,308,900,490</td>\n",
       "      <td>645,000</td>\n",
       "      <td>4</td>\n",
       "      <td>2</td>\n",
       "      <td>2,550</td>\n",
       "      <td>10,685</td>\n",
       "      <td>2</td>\n",
       "      <td>0</td>\n",
       "      <td>0</td>\n",
       "      <td>4</td>\n",
       "      <td>8</td>\n",
       "      <td>2,210</td>\n",
       "      <td>1,997</td>\n",
       "      <td>0</td>\n",
       "      <td>98,118</td>\n",
       "      <td>48</td>\n",
       "      <td>-122</td>\n",
       "      <td>2,360</td>\n",
       "      <td>10,083</td>\n",
       "    </tr>\n",
       "    <tr>\n",
       "      <th>max</th>\n",
       "      <td>9,900,000,190</td>\n",
       "      <td>7,700,000</td>\n",
       "      <td>33</td>\n",
       "      <td>8</td>\n",
       "      <td>13,540</td>\n",
       "      <td>1,651,359</td>\n",
       "      <td>4</td>\n",
       "      <td>1</td>\n",
       "      <td>4</td>\n",
       "      <td>5</td>\n",
       "      <td>13</td>\n",
       "      <td>9,410</td>\n",
       "      <td>2,015</td>\n",
       "      <td>2,015</td>\n",
       "      <td>98,199</td>\n",
       "      <td>48</td>\n",
       "      <td>-121</td>\n",
       "      <td>6,210</td>\n",
       "      <td>871,200</td>\n",
       "    </tr>\n",
       "  </tbody>\n",
       "</table>\n",
       "</div>"
      ],
      "text/plain": [
       "                 id     price  bedrooms  bathrooms  sqft_living  sqft_lot  \\\n",
       "count        21,597    21,597    21,597     21,597       21,597    21,597   \n",
       "mean  4,580,474,288   540,297         3          2        2,080    15,099   \n",
       "std   2,876,735,716   367,368         1          1          918    41,413   \n",
       "min       1,000,102    78,000         1          0          370       520   \n",
       "25%   2,123,049,175   322,000         3          2        1,430     5,040   \n",
       "50%   3,904,930,410   450,000         3          2        1,910     7,618   \n",
       "75%   7,308,900,490   645,000         4          2        2,550    10,685   \n",
       "max   9,900,000,190 7,700,000        33          8       13,540 1,651,359   \n",
       "\n",
       "       floors  waterfront   view  condition  grade  sqft_above  yr_built  \\\n",
       "count  21,597      19,221 21,534     21,597 21,597      21,597    21,597   \n",
       "mean        1           0      0          3      8       1,789     1,971   \n",
       "std         1           0      1          1      1         828        29   \n",
       "min         1           0      0          1      3         370     1,900   \n",
       "25%         1           0      0          3      7       1,190     1,951   \n",
       "50%         2           0      0          3      7       1,560     1,975   \n",
       "75%         2           0      0          4      8       2,210     1,997   \n",
       "max         4           1      4          5     13       9,410     2,015   \n",
       "\n",
       "       yr_renovated  zipcode    lat   long  sqft_living15  sqft_lot15  \n",
       "count        17,755   21,597 21,597 21,597         21,597      21,597  \n",
       "mean             84   98,078     48   -122          1,987      12,758  \n",
       "std             400       54      0      0            685      27,274  \n",
       "min               0   98,001     47   -123            399         651  \n",
       "25%               0   98,033     47   -122          1,490       5,100  \n",
       "50%               0   98,065     48   -122          1,840       7,620  \n",
       "75%               0   98,118     48   -122          2,360      10,083  \n",
       "max           2,015   98,199     48   -121          6,210     871,200  "
      ]
     },
     "execution_count": 64,
     "metadata": {},
     "output_type": "execute_result"
    }
   ],
   "source": [
    "dataset.describe()"
   ]
  },
  {
   "cell_type": "code",
   "execution_count": 65,
   "metadata": {},
   "outputs": [
    {
     "name": "stdout",
     "output_type": "stream",
     "text": [
      "<class 'pandas.core.frame.DataFrame'>\n",
      "RangeIndex: 21597 entries, 0 to 21596\n",
      "Data columns (total 21 columns):\n",
      " #   Column         Non-Null Count  Dtype  \n",
      "---  ------         --------------  -----  \n",
      " 0   id             21597 non-null  int64  \n",
      " 1   date           21597 non-null  object \n",
      " 2   price          21597 non-null  float64\n",
      " 3   bedrooms       21597 non-null  int64  \n",
      " 4   bathrooms      21597 non-null  float64\n",
      " 5   sqft_living    21597 non-null  int64  \n",
      " 6   sqft_lot       21597 non-null  int64  \n",
      " 7   floors         21597 non-null  float64\n",
      " 8   waterfront     19221 non-null  float64\n",
      " 9   view           21534 non-null  float64\n",
      " 10  condition      21597 non-null  int64  \n",
      " 11  grade          21597 non-null  int64  \n",
      " 12  sqft_above     21597 non-null  int64  \n",
      " 13  sqft_basement  21597 non-null  object \n",
      " 14  yr_built       21597 non-null  int64  \n",
      " 15  yr_renovated   17755 non-null  float64\n",
      " 16  zipcode        21597 non-null  int64  \n",
      " 17  lat            21597 non-null  float64\n",
      " 18  long           21597 non-null  float64\n",
      " 19  sqft_living15  21597 non-null  int64  \n",
      " 20  sqft_lot15     21597 non-null  int64  \n",
      "dtypes: float64(8), int64(11), object(2)\n",
      "memory usage: 3.5+ MB\n"
     ]
    }
   ],
   "source": [
    "dataset.info()"
   ]
  },
  {
   "cell_type": "code",
   "execution_count": 66,
   "metadata": {},
   "outputs": [
    {
     "data": {
      "text/plain": [
       "(21597, 21)"
      ]
     },
     "execution_count": 66,
     "metadata": {},
     "output_type": "execute_result"
    }
   ],
   "source": [
    "dataset.shape"
   ]
  },
  {
   "cell_type": "code",
   "execution_count": 67,
   "metadata": {},
   "outputs": [
    {
     "data": {
      "text/plain": [
       "Index(['id', 'date', 'price', 'bedrooms', 'bathrooms', 'sqft_living',\n",
       "       'sqft_lot', 'floors', 'waterfront', 'view', 'condition', 'grade',\n",
       "       'sqft_above', 'sqft_basement', 'yr_built', 'yr_renovated', 'zipcode',\n",
       "       'lat', 'long', 'sqft_living15', 'sqft_lot15'],\n",
       "      dtype='object')"
      ]
     },
     "execution_count": 67,
     "metadata": {},
     "output_type": "execute_result"
    }
   ],
   "source": [
    "dataset.columns"
   ]
  },
  {
   "cell_type": "code",
   "execution_count": 68,
   "metadata": {},
   "outputs": [
    {
     "name": "stdout",
     "output_type": "stream",
     "text": [
      "int64      11\n",
      "float64     8\n",
      "object      2\n",
      "dtype: int64\n"
     ]
    }
   ],
   "source": [
    "#CHECKING THE DATATYPES OF THE FEATURES ABOVE\n",
    "column_data_types_counts = dataset.dtypes.value_counts()\n",
    "\n",
    "print(column_data_types_counts)\n"
   ]
  },
  {
   "cell_type": "markdown",
   "metadata": {},
   "source": [
    "#### DATA CLEANING"
   ]
  },
  {
   "cell_type": "markdown",
   "metadata": {},
   "source": [
    "##### CHECKING FOR MISSING VALUES"
   ]
  },
  {
   "cell_type": "code",
   "execution_count": 69,
   "metadata": {},
   "outputs": [
    {
     "data": {
      "text/plain": [
       "id               False\n",
       "date             False\n",
       "price            False\n",
       "bedrooms         False\n",
       "bathrooms        False\n",
       "sqft_living      False\n",
       "sqft_lot         False\n",
       "floors           False\n",
       "waterfront        True\n",
       "view              True\n",
       "condition        False\n",
       "grade            False\n",
       "sqft_above       False\n",
       "sqft_basement    False\n",
       "yr_built         False\n",
       "yr_renovated      True\n",
       "zipcode          False\n",
       "lat              False\n",
       "long             False\n",
       "sqft_living15    False\n",
       "sqft_lot15       False\n",
       "dtype: bool"
      ]
     },
     "execution_count": 69,
     "metadata": {},
     "output_type": "execute_result"
    }
   ],
   "source": [
    "# checking if there are any missing values in the features\n",
    "dataset.isnull().any()"
   ]
  },
  {
   "cell_type": "code",
   "execution_count": 70,
   "metadata": {},
   "outputs": [
    {
     "data": {
      "text/plain": [
       "id               0\n",
       "date             0\n",
       "price            0\n",
       "bedrooms         0\n",
       "bathrooms        0\n",
       "sqft_living      0\n",
       "sqft_lot         0\n",
       "floors           0\n",
       "waterfront      11\n",
       "view             0\n",
       "condition        0\n",
       "grade            0\n",
       "sqft_above       0\n",
       "sqft_basement    0\n",
       "yr_built         0\n",
       "yr_renovated    18\n",
       "zipcode          0\n",
       "lat              0\n",
       "long             0\n",
       "sqft_living15    0\n",
       "sqft_lot15       0\n",
       "dtype: float64"
      ]
     },
     "execution_count": 70,
     "metadata": {},
     "output_type": "execute_result"
    }
   ],
   "source": [
    "#checking for the percentage of missing values per column\n",
    "dataset.isnull().sum() / len(dataset) * 100\n"
   ]
  },
  {
   "cell_type": "markdown",
   "metadata": {},
   "source": [
    "#### FIXING MISSING VALUES"
   ]
  },
  {
   "cell_type": "code",
   "execution_count": 71,
   "metadata": {},
   "outputs": [
    {
     "name": "stdout",
     "output_type": "stream",
     "text": [
      "waterfront\n",
      "0   1\n",
      "1   0\n",
      "Name: waterfront, dtype: float64\n",
      "------------------\n",
      "view\n",
      "0   1\n",
      "2   0\n",
      "3   0\n",
      "1   0\n",
      "4   0\n",
      "Name: view, dtype: float64\n",
      "------------------\n",
      "yr_renovated\n",
      "0       1\n",
      "2,014   0\n",
      "2,003   0\n",
      "2,013   0\n",
      "2,007   0\n",
      "Name: yr_renovated, dtype: float64\n",
      "------------------\n"
     ]
    }
   ],
   "source": [
    "# iterate over each column and print most common values\n",
    "for col in [\"waterfront\", \"view\", \"yr_renovated\"]:\n",
    "    print(col)\n",
    "    print(dataset[col].value_counts(normalize = True).sort_values(ascending = False).head())\n",
    "    print(\"------------------\")"
   ]
  },
  {
   "cell_type": "code",
   "execution_count": 72,
   "metadata": {},
   "outputs": [
    {
     "name": "stdout",
     "output_type": "stream",
     "text": [
      "The number of missing values in waterfront is: 0\n",
      "The number of missing values in view is: 0\n",
      "The number of missing values in yr_renovated is: 0\n",
      "--------------------------------------\n",
      "Missing values per column:\n"
     ]
    },
    {
     "data": {
      "text/plain": [
       "id               0\n",
       "date             0\n",
       "price            0\n",
       "bedrooms         0\n",
       "bathrooms        0\n",
       "sqft_living      0\n",
       "sqft_lot         0\n",
       "floors           0\n",
       "waterfront       0\n",
       "view             0\n",
       "condition        0\n",
       "grade            0\n",
       "sqft_above       0\n",
       "sqft_basement    0\n",
       "yr_built         0\n",
       "yr_renovated     0\n",
       "zipcode          0\n",
       "lat              0\n",
       "long             0\n",
       "sqft_living15    0\n",
       "sqft_lot15       0\n",
       "dtype: int64"
      ]
     },
     "execution_count": 72,
     "metadata": {},
     "output_type": "execute_result"
    }
   ],
   "source": [
    "\n",
    "def replace_missing(val, probs):\n",
    "    if pd.isnull(val):\n",
    "        return np.random.choice(probs.index, p=probs.values)\n",
    "    else:\n",
    "        return val\n",
    "\n",
    "for col in [\"waterfront\", \"view\", \"yr_renovated\"]:\n",
    "    # get weights of unique values\n",
    "    unique_p = dataset[col].value_counts(normalize=True)\n",
    "    if unique_p.isnull().any():  # Handle the case where the column has all NaN values\n",
    "        print(\"Skipping column {} because it contains only missing values\".format(col))\n",
    "        continue\n",
    "    # apply function above\n",
    "    dataset[col] = dataset[col].apply(replace_missing, args=(unique_p,))\n",
    "    print(\"The number of missing values in {} is:\".format(col), dataset[col].isna().sum())\n",
    "\n",
    "print(\"--------------------------------------\")\n",
    "print(\"Missing values per column:\")\n",
    "# last check to see if there are missing values\n",
    "dataset.isna().sum()\n"
   ]
  },
  {
   "cell_type": "markdown",
   "metadata": {},
   "source": [
    "#### CHECKING FOR DUPLICATED VALUES"
   ]
  },
  {
   "cell_type": "code",
   "execution_count": 73,
   "metadata": {},
   "outputs": [
    {
     "data": {
      "text/plain": [
       "False"
      ]
     },
     "execution_count": 73,
     "metadata": {},
     "output_type": "execute_result"
    }
   ],
   "source": [
    "dataset.duplicated().any()"
   ]
  },
  {
   "cell_type": "markdown",
   "metadata": {},
   "source": [
    "There are no duplicated values"
   ]
  },
  {
   "cell_type": "code",
   "execution_count": null,
   "metadata": {},
   "outputs": [],
   "source": []
  }
 ],
 "metadata": {
  "kernelspec": {
   "display_name": "Python 3",
   "language": "python",
   "name": "python3"
  },
  "language_info": {
   "codemirror_mode": {
    "name": "ipython",
    "version": 3
   },
   "file_extension": ".py",
   "mimetype": "text/x-python",
   "name": "python",
   "nbconvert_exporter": "python",
   "pygments_lexer": "ipython3",
   "version": "3.8.5"
  }
 },
 "nbformat": 4,
 "nbformat_minor": 2
}
